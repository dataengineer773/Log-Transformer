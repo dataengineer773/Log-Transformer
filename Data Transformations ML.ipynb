{
 "cells": [
  {
   "cell_type": "code",
   "execution_count": 1,
   "id": "235043ed",
   "metadata": {},
   "outputs": [],
   "source": [
    "import numpy as np\n",
    "import matplotlib.pyplot as plt"
   ]
  },
  {
   "cell_type": "code",
   "execution_count": 2,
   "id": "8d384186",
   "metadata": {},
   "outputs": [],
   "source": [
    "# Generate example data\n",
    "original_data = np.linspace(1, 100000, 100)"
   ]
  },
  {
   "cell_type": "code",
   "execution_count": 3,
   "id": "0c82d434",
   "metadata": {},
   "outputs": [],
   "source": [
    "# Apply log transformation\n",
    "log_transformed_data = np.log(original_data)"
   ]
  },
  {
   "cell_type": "code",
   "execution_count": 4,
   "id": "430e8a67",
   "metadata": {},
   "outputs": [
    {
     "data": {
      "text/plain": [
       "<Figure size 720x288 with 0 Axes>"
      ]
     },
     "execution_count": 4,
     "metadata": {},
     "output_type": "execute_result"
    },
    {
     "data": {
      "text/plain": [
       "<Figure size 720x288 with 0 Axes>"
      ]
     },
     "metadata": {},
     "output_type": "display_data"
    }
   ],
   "source": [
    "# Plot original and log-transformed data\n",
    "plt.figure(figsize=(10, 4))"
   ]
  },
  {
   "cell_type": "code",
   "execution_count": 5,
   "id": "1b643d13",
   "metadata": {},
   "outputs": [
    {
     "data": {
      "text/plain": [
       "Text(0.5, 1.0, 'Original Data')"
      ]
     },
     "execution_count": 5,
     "metadata": {},
     "output_type": "execute_result"
    },
    {
     "data": {
      "image/png": "[encoded data removed]",
      "text/plain": [
       "<Figure size 432x288 with 1 Axes>"
      ]
     },
     "metadata": {
      "needs_background": "light"
     },
     "output_type": "display_data"
    }
   ],
   "source": [
    "plt.subplot(1, 2, 1)\n",
    "plt.scatter(range(len(original_data)), original_data)\n",
    "plt.title('Original Data')"
   ]
  },
  {
   "cell_type": "code",
   "execution_count": 8,
   "id": "bcd6ce24",
   "metadata": {},
   "outputs": [
    {
     "data": {
      "image/png": "[encoded data removed]",
      "text/plain": [
       "<Figure size 432x288 with 1 Axes>"
      ]
     },
     "metadata": {
      "needs_background": "light"
     },
     "output_type": "display_data"
    }
   ],
   "source": [
    "plt.subplot(1, 2, 2)\n",
    "plt.scatter(range(len(log_transformed_data)), log_transformed_data)\n",
    "plt.title('Log-Transformed Data')\n",
    "plt.show()"
   ]
  },
  {
   "cell_type": "markdown",
   "id": "ab35f9c1",
   "metadata": {},
   "source": [
    "# Reciprocal Transformation"
   ]
  },
  {
   "cell_type": "code",
   "execution_count": 9,
   "id": "cede5a05",
   "metadata": {},
   "outputs": [],
   "source": [
    "import numpy as np"
   ]
  },
  {
   "cell_type": "code",
   "execution_count": 10,
   "id": "c6c80e13",
   "metadata": {},
   "outputs": [],
   "source": [
    "# Original data\n",
    "data = np.array([2, 4, 8, 16, 32])"
   ]
  },
  {
   "cell_type": "code",
   "execution_count": 11,
   "id": "69122b74",
   "metadata": {},
   "outputs": [],
   "source": [
    "# Reciprocal transformation\n",
    "reciprocal_data = np.reciprocal(data)"
   ]
  },
  {
   "cell_type": "code",
   "execution_count": 12,
   "id": "0ef4d1e3",
   "metadata": {},
   "outputs": [
    {
     "name": "stdout",
     "output_type": "stream",
     "text": [
      "Original Data: [ 2  4  8 16 32]\n",
      "Reciprocal Transformation: [0 0 0 0 0]\n"
     ]
    }
   ],
   "source": [
    "# Print the results\n",
    "print(\"Original Data:\", data)\n",
    "print(\"Reciprocal Transformation:\", reciprocal_data)"
   ]
  },
  {
   "cell_type": "markdown",
   "id": "5367b371",
   "metadata": {},
   "source": [
    " # Square Transformation:"
   ]
  },
  {
   "cell_type": "code",
   "execution_count": 15,
   "id": "48194b54",
   "metadata": {},
   "outputs": [],
   "source": [
    "import numpy as np"
   ]
  },
  {
   "cell_type": "code",
   "execution_count": 16,
   "id": "48211887",
   "metadata": {},
   "outputs": [],
   "source": [
    "# Original data\n",
    "data = np.array([-3, -2, -1, 0, 1, 2, 3])"
   ]
  },
  {
   "cell_type": "code",
   "execution_count": 17,
   "id": "ffec0148",
   "metadata": {},
   "outputs": [],
   "source": [
    "# Squaring transformation\n",
    "squared_data = np.square(data)"
   ]
  },
  {
   "cell_type": "code",
   "execution_count": 18,
   "id": "c8313f7b",
   "metadata": {},
   "outputs": [
    {
     "name": "stdout",
     "output_type": "stream",
     "text": [
      "Original Data: [-3 -2 -1  0  1  2  3]\n",
      "Squared Data: [9 4 1 0 1 4 9]\n"
     ]
    }
   ],
   "source": [
    "# Displaying the results\n",
    "print(\"Original Data:\", data)\n",
    "print(\"Squared Data:\", squared_data)"
   ]
  },
  {
   "cell_type": "markdown",
   "id": "3f6e1b19",
   "metadata": {},
   "source": [
    "#  Square Root Transformation:"
   ]
  },
  {
   "cell_type": "code",
   "execution_count": 19,
   "id": "dd145ea8",
   "metadata": {},
   "outputs": [],
   "source": [
    "import numpy as np"
   ]
  },
  {
   "cell_type": "code",
   "execution_count": 20,
   "id": "3b7d8134",
   "metadata": {},
   "outputs": [],
   "source": [
    "# Original data points\n",
    "data_points = np.array([4, 9, 16, 25, 36])"
   ]
  },
  {
   "cell_type": "code",
   "execution_count": 21,
   "id": "63637c86",
   "metadata": {},
   "outputs": [],
   "source": [
    "# Square root transformation\n",
    "transformed_data = np.sqrt(data_points)"
   ]
  },
  {
   "cell_type": "code",
   "execution_count": 22,
   "id": "ad77bf8a",
   "metadata": {},
   "outputs": [
    {
     "name": "stdout",
     "output_type": "stream",
     "text": [
      "Original Data Points: [ 4  9 16 25 36]\n",
      "Transformed Data Points (Square Root): [2. 3. 4. 5. 6.]\n"
     ]
    }
   ],
   "source": [
    "# Display original and transformed data\n",
    "print(\"Original Data Points:\", data_points)\n",
    "print(\"Transformed Data Points (Square Root):\", transformed_data)"
   ]
  },
  {
   "cell_type": "markdown",
   "id": "b0952ec0",
   "metadata": {},
   "source": [
    " # Different Power Transformations:\n",
    " # 1 - Box-Cox Transformer:\n"
   ]
  },
  {
   "cell_type": "code",
   "execution_count": 23,
   "id": "d682e7c2",
   "metadata": {},
   "outputs": [],
   "source": [
    "import numpy as np\n",
    "from scipy.stats import boxcox"
   ]
  },
  {
   "cell_type": "code",
   "execution_count": 24,
   "id": "999a5420",
   "metadata": {},
   "outputs": [],
   "source": [
    "# Generate 10 random positive numbers\n",
    "original_data = np.random.exponential(size=10)"
   ]
  },
  {
   "cell_type": "code",
   "execution_count": 25,
   "id": "ad3f6b30",
   "metadata": {},
   "outputs": [],
   "source": [
    "# Apply Box-Cox transformation\n",
    "transformed_data, lambda_value = boxcox(original_data)"
   ]
  },
  {
   "cell_type": "code",
   "execution_count": 26,
   "id": "ba2628c0",
   "metadata": {},
   "outputs": [
    {
     "name": "stdout",
     "output_type": "stream",
     "text": [
      "Original Data:\n",
      "[4.02084658 0.43075965 1.05903211 0.01318924 1.33119727 2.11896059\n",
      " 0.66389744 1.40478637 0.37026164 1.32422742]\n",
      "\n",
      "Transformed Data:\n",
      "[ 1.89503022 -0.708461    0.05805716 -1.98452434  0.30411746  0.88396055\n",
      " -0.37608695  0.36554597 -0.81110279  0.29819886]\n",
      "\n",
      "Optimal Lambda Value: 0.4232137257277836\n"
     ]
    }
   ],
   "source": [
    "# Display the original and transformed data\n",
    "print(\"Original Data:\")\n",
    "print(original_data)\n",
    "print(\"\\nTransformed Data:\")\n",
    "print(transformed_data)\n",
    "print(\"\\nOptimal Lambda Value:\", lambda_value)"
   ]
  },
  {
   "cell_type": "markdown",
   "id": "01c28b23",
   "metadata": {},
   "source": [
    "# 2. Yeo-Johnson Transformer:"
   ]
  },
  {
   "cell_type": "code",
   "execution_count": 27,
   "id": "6af6e4fc",
   "metadata": {},
   "outputs": [],
   "source": [
    "from scipy.stats import yeojohnson\n",
    "import numpy as np"
   ]
  },
  {
   "cell_type": "code",
   "execution_count": 28,
   "id": "fe84c445",
   "metadata": {},
   "outputs": [],
   "source": [
    "from scipy.stats import yeojohnson\n",
    "import numpy as np"
   ]
  },
  {
   "cell_type": "code",
   "execution_count": 29,
   "id": "ffb46461",
   "metadata": {},
   "outputs": [],
   "source": [
    "# Applying Yeo-Johnson transformation\n",
    "transformed_data, lambda_value = yeojohnson(original_data)"
   ]
  },
  {
   "cell_type": "code",
   "execution_count": 30,
   "id": "f7c2b0d7",
   "metadata": {},
   "outputs": [
    {
     "name": "stdout",
     "output_type": "stream",
     "text": [
      "Original Data: [4.02084658 0.43075965 1.05903211 0.01318924 1.33119727 2.11896059\n",
      " 0.66389744 1.40478637 0.37026164 1.32422742]\n",
      "Transformed Data: [1.24422426 0.33740089 0.64095249 0.01307409 0.73623449 0.94461546\n",
      " 0.46781877 0.75946942 0.29883607 0.73398304]\n",
      "Optimal lambda value: -0.33748203079297334\n"
     ]
    }
   ],
   "source": [
    "# Displaying results\n",
    "print(\"Original Data:\", original_data)\n",
    "print(\"Transformed Data:\", transformed_data)\n",
    "print(f\"Optimal lambda value: {lambda_value}\")"
   ]
  },
  {
   "cell_type": "code",
   "execution_count": null,
   "id": "0b7b111a",
   "metadata": {},
   "outputs": [],
   "source": []
  }
 ],
 "metadata": {
  "kernelspec": {
   "display_name": "Python 3 (ipykernel)",
   "language": "python",
   "name": "python3"
  },
  "language_info": {
   "codemirror_mode": {
    "name": "ipython",
    "version": 3
   },
   "file_extension": ".py",
   "mimetype": "text/x-python",
   "name": "python",
   "nbconvert_exporter": "python",
   "pygments_lexer": "ipython3",
   "version": "3.10.12"
  }
 },
 "nbformat": 4,
 "nbformat_minor": 5
}
